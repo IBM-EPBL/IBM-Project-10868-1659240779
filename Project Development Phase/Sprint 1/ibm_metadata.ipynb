{
 "cells": [
  {
   "cell_type": "code",
   "execution_count": 1,
   "id": "f6a002ff",
   "metadata": {},
   "outputs": [],
   "source": [
    "import pandas as pd\n",
    "import numpy as np\n",
    "from tqdm.auto import tqdm\n",
    "import os\n",
    "import shutil"
   ]
  },
  {
   "cell_type": "code",
   "execution_count": 2,
   "id": "3aad5939",
   "metadata": {},
   "outputs": [
    {
     "name": "stdout",
     "output_type": "stream",
     "text": [
      "['APPLES', 'BANANA', 'ORANGE', 'PINEAPPLE', 'WATERMELON']\n"
     ]
    }
   ],
   "source": [
    "TRAIN_DATA = 'D:/download/TRAIN_SET'\n",
    "print(os.listdir(TRAIN_DATA))"
   ]
  },
  {
   "cell_type": "code",
   "execution_count": 7,
   "id": "95a8563a",
   "metadata": {},
   "outputs": [
    {
     "data": {
      "application/vnd.jupyter.widget-view+json": {
       "model_id": "8d4240a125574d78af4c6b15a7e07a8d",
       "version_major": 2,
       "version_minor": 0
      },
      "text/plain": [
       "  0%|          | 0/5 [00:00<?, ?it/s]"
      ]
     },
     "metadata": {},
     "output_type": "display_data"
    },
    {
     "data": {
      "application/vnd.jupyter.widget-view+json": {
       "model_id": "f15197235af64ddbba332ac69d2af5d1",
       "version_major": 2,
       "version_minor": 0
      },
      "text/plain": [
       "  0%|          | 0/606 [00:00<?, ?it/s]"
      ]
     },
     "metadata": {},
     "output_type": "display_data"
    },
    {
     "data": {
      "application/vnd.jupyter.widget-view+json": {
       "model_id": "4cf0aa01bf514356b07c73a322589219",
       "version_major": 2,
       "version_minor": 0
      },
      "text/plain": [
       "  0%|          | 0/445 [00:00<?, ?it/s]"
      ]
     },
     "metadata": {},
     "output_type": "display_data"
    },
    {
     "data": {
      "application/vnd.jupyter.widget-view+json": {
       "model_id": "73acf6ab1e754b5591e0880dc00578a4",
       "version_major": 2,
       "version_minor": 0
      },
      "text/plain": [
       "  0%|          | 0/479 [00:00<?, ?it/s]"
      ]
     },
     "metadata": {},
     "output_type": "display_data"
    },
    {
     "data": {
      "application/vnd.jupyter.widget-view+json": {
       "model_id": "d17e59f1422646d1be69c1fe64e5dc91",
       "version_major": 2,
       "version_minor": 0
      },
      "text/plain": [
       "  0%|          | 0/621 [00:00<?, ?it/s]"
      ]
     },
     "metadata": {},
     "output_type": "display_data"
    },
    {
     "data": {
      "application/vnd.jupyter.widget-view+json": {
       "model_id": "dfca1e3244754e14877949921107d5bf",
       "version_major": 2,
       "version_minor": 0
      },
      "text/plain": [
       "  0%|          | 0/475 [00:00<?, ?it/s]"
      ]
     },
     "metadata": {},
     "output_type": "display_data"
    },
    {
     "name": "stdout",
     "output_type": "stream",
     "text": [
      "created meta data\n"
     ]
    }
   ],
   "source": [
    "meta_data_df = pd.DataFrame()\n",
    "meta_data_df['fruit'] = None\n",
    "meta_data_df['path'] = None\n",
    "count = 0\n",
    "for folder in tqdm(os.listdir(TRAIN_DATA)):\n",
    "    for images in tqdm(os.listdir(os.path.join(TRAIN_DATA, folder))):\n",
    "        full_path = f'{folder}/{images}'\n",
    "        meta_data_df.loc[count, 'fruit'] = folder\n",
    "        meta_data_df.loc[count, 'path'] = full_path\n",
    "        count += 1\n",
    "\n",
    "print('created meta data')"
   ]
  },
  {
   "cell_type": "code",
   "execution_count": 8,
   "id": "11b27b80",
   "metadata": {},
   "outputs": [
    {
     "data": {
      "text/html": [
       "<div>\n",
       "<style scoped>\n",
       "    .dataframe tbody tr th:only-of-type {\n",
       "        vertical-align: middle;\n",
       "    }\n",
       "\n",
       "    .dataframe tbody tr th {\n",
       "        vertical-align: top;\n",
       "    }\n",
       "\n",
       "    .dataframe thead th {\n",
       "        text-align: right;\n",
       "    }\n",
       "</style>\n",
       "<table border=\"1\" class=\"dataframe\">\n",
       "  <thead>\n",
       "    <tr style=\"text-align: right;\">\n",
       "      <th></th>\n",
       "      <th>fruit</th>\n",
       "      <th>path</th>\n",
       "    </tr>\n",
       "  </thead>\n",
       "  <tbody>\n",
       "    <tr>\n",
       "      <th>0</th>\n",
       "      <td>APPLES</td>\n",
       "      <td>APPLES/0_100.jpg</td>\n",
       "    </tr>\n",
       "    <tr>\n",
       "      <th>1</th>\n",
       "      <td>APPLES</td>\n",
       "      <td>APPLES/100_100.jpg</td>\n",
       "    </tr>\n",
       "    <tr>\n",
       "      <th>2</th>\n",
       "      <td>APPLES</td>\n",
       "      <td>APPLES/101_100.jpg</td>\n",
       "    </tr>\n",
       "    <tr>\n",
       "      <th>3</th>\n",
       "      <td>APPLES</td>\n",
       "      <td>APPLES/102_100.jpg</td>\n",
       "    </tr>\n",
       "    <tr>\n",
       "      <th>4</th>\n",
       "      <td>APPLES</td>\n",
       "      <td>APPLES/103_100.jpg</td>\n",
       "    </tr>\n",
       "    <tr>\n",
       "      <th>...</th>\n",
       "      <td>...</td>\n",
       "      <td>...</td>\n",
       "    </tr>\n",
       "    <tr>\n",
       "      <th>2621</th>\n",
       "      <td>WATERMELON</td>\n",
       "      <td>WATERMELON/r_6_100.jpg</td>\n",
       "    </tr>\n",
       "    <tr>\n",
       "      <th>2622</th>\n",
       "      <td>WATERMELON</td>\n",
       "      <td>WATERMELON/r_7_100.jpg</td>\n",
       "    </tr>\n",
       "    <tr>\n",
       "      <th>2623</th>\n",
       "      <td>WATERMELON</td>\n",
       "      <td>WATERMELON/r_81_100.jpg</td>\n",
       "    </tr>\n",
       "    <tr>\n",
       "      <th>2624</th>\n",
       "      <td>WATERMELON</td>\n",
       "      <td>WATERMELON/r_8_100.jpg</td>\n",
       "    </tr>\n",
       "    <tr>\n",
       "      <th>2625</th>\n",
       "      <td>WATERMELON</td>\n",
       "      <td>WATERMELON/r_9_100.jpg</td>\n",
       "    </tr>\n",
       "  </tbody>\n",
       "</table>\n",
       "<p>2626 rows × 2 columns</p>\n",
       "</div>"
      ],
      "text/plain": [
       "           fruit                     path\n",
       "0         APPLES         APPLES/0_100.jpg\n",
       "1         APPLES       APPLES/100_100.jpg\n",
       "2         APPLES       APPLES/101_100.jpg\n",
       "3         APPLES       APPLES/102_100.jpg\n",
       "4         APPLES       APPLES/103_100.jpg\n",
       "...          ...                      ...\n",
       "2621  WATERMELON   WATERMELON/r_6_100.jpg\n",
       "2622  WATERMELON   WATERMELON/r_7_100.jpg\n",
       "2623  WATERMELON  WATERMELON/r_81_100.jpg\n",
       "2624  WATERMELON   WATERMELON/r_8_100.jpg\n",
       "2625  WATERMELON   WATERMELON/r_9_100.jpg\n",
       "\n",
       "[2626 rows x 2 columns]"
      ]
     },
     "execution_count": 8,
     "metadata": {},
     "output_type": "execute_result"
    }
   ],
   "source": [
    "meta_data_df"
   ]
  },
  {
   "cell_type": "code",
   "execution_count": 9,
   "id": "b71b5156",
   "metadata": {},
   "outputs": [],
   "source": [
    "meta_data_df.to_csv('fruits_metadata.csv', index = False)"
   ]
  },
  {
   "cell_type": "markdown",
   "id": "1f30eef9",
   "metadata": {},
   "source": [
    "## For the test set now"
   ]
  },
  {
   "cell_type": "code",
   "execution_count": 10,
   "id": "60e0fd66",
   "metadata": {},
   "outputs": [
    {
     "name": "stdout",
     "output_type": "stream",
     "text": [
      "['APPLES', 'BANANA', 'ORANGE', 'PINEAPPLE', 'WATERMELON']\n"
     ]
    }
   ],
   "source": [
    "TEST_DATA = 'D:/download/TEST_SET'\n",
    "print(os.listdir(TEST_DATA))"
   ]
  },
  {
   "cell_type": "code",
   "execution_count": 11,
   "id": "7eed05a4",
   "metadata": {},
   "outputs": [
    {
     "data": {
      "application/vnd.jupyter.widget-view+json": {
       "model_id": "8043b2ca756a4f71bdcafa09314d61ee",
       "version_major": 2,
       "version_minor": 0
      },
      "text/plain": [
       "  0%|          | 0/5 [00:00<?, ?it/s]"
      ]
     },
     "metadata": {},
     "output_type": "display_data"
    },
    {
     "data": {
      "application/vnd.jupyter.widget-view+json": {
       "model_id": "e47d2e0e42fc4a539aebe368ef144c6e",
       "version_major": 2,
       "version_minor": 0
      },
      "text/plain": [
       "  0%|          | 0/157 [00:00<?, ?it/s]"
      ]
     },
     "metadata": {},
     "output_type": "display_data"
    },
    {
     "data": {
      "application/vnd.jupyter.widget-view+json": {
       "model_id": "8a6a2c09cac44b418102fa9ec1f0b120",
       "version_major": 2,
       "version_minor": 0
      },
      "text/plain": [
       "  0%|          | 0/287 [00:00<?, ?it/s]"
      ]
     },
     "metadata": {},
     "output_type": "display_data"
    },
    {
     "data": {
      "application/vnd.jupyter.widget-view+json": {
       "model_id": "b8fde2c1b08045bca8630400b1df9c30",
       "version_major": 2,
       "version_minor": 0
      },
      "text/plain": [
       "  0%|          | 0/160 [00:00<?, ?it/s]"
      ]
     },
     "metadata": {},
     "output_type": "display_data"
    },
    {
     "data": {
      "application/vnd.jupyter.widget-view+json": {
       "model_id": "b4d825732b3d4c4e8be3008cffc73f2f",
       "version_major": 2,
       "version_minor": 0
      },
      "text/plain": [
       "  0%|          | 0/294 [00:00<?, ?it/s]"
      ]
     },
     "metadata": {},
     "output_type": "display_data"
    },
    {
     "data": {
      "application/vnd.jupyter.widget-view+json": {
       "model_id": "a8330983d3fe4ee4af8275b509263e69",
       "version_major": 2,
       "version_minor": 0
      },
      "text/plain": [
       "  0%|          | 0/157 [00:00<?, ?it/s]"
      ]
     },
     "metadata": {},
     "output_type": "display_data"
    },
    {
     "name": "stdout",
     "output_type": "stream",
     "text": [
      "created meta data\n"
     ]
    }
   ],
   "source": [
    "meta_data_df = pd.DataFrame()\n",
    "meta_data_df['fruit'] = None\n",
    "meta_data_df['path'] = None\n",
    "count = 0\n",
    "for folder in tqdm(os.listdir(TEST_DATA)):\n",
    "    for images in tqdm(os.listdir(os.path.join(TEST_DATA, folder))):\n",
    "        full_path = f'{folder}/{images}'\n",
    "        meta_data_df.loc[count, 'fruit'] = folder\n",
    "        meta_data_df.loc[count, 'path'] = full_path\n",
    "        count += 1\n",
    "\n",
    "print('created meta data')"
   ]
  },
  {
   "cell_type": "code",
   "execution_count": 12,
   "id": "633b067a",
   "metadata": {},
   "outputs": [
    {
     "data": {
      "text/html": [
       "<div>\n",
       "<style scoped>\n",
       "    .dataframe tbody tr th:only-of-type {\n",
       "        vertical-align: middle;\n",
       "    }\n",
       "\n",
       "    .dataframe tbody tr th {\n",
       "        vertical-align: top;\n",
       "    }\n",
       "\n",
       "    .dataframe thead th {\n",
       "        text-align: right;\n",
       "    }\n",
       "</style>\n",
       "<table border=\"1\" class=\"dataframe\">\n",
       "  <thead>\n",
       "    <tr style=\"text-align: right;\">\n",
       "      <th></th>\n",
       "      <th>fruit</th>\n",
       "      <th>path</th>\n",
       "    </tr>\n",
       "  </thead>\n",
       "  <tbody>\n",
       "    <tr>\n",
       "      <th>0</th>\n",
       "      <td>APPLES</td>\n",
       "      <td>APPLES/151_100.jpg</td>\n",
       "    </tr>\n",
       "    <tr>\n",
       "      <th>1</th>\n",
       "      <td>APPLES</td>\n",
       "      <td>APPLES/152_100.jpg</td>\n",
       "    </tr>\n",
       "    <tr>\n",
       "      <th>2</th>\n",
       "      <td>APPLES</td>\n",
       "      <td>APPLES/153_100.jpg</td>\n",
       "    </tr>\n",
       "    <tr>\n",
       "      <th>3</th>\n",
       "      <td>APPLES</td>\n",
       "      <td>APPLES/154_100.jpg</td>\n",
       "    </tr>\n",
       "    <tr>\n",
       "      <th>4</th>\n",
       "      <td>APPLES</td>\n",
       "      <td>APPLES/155_100.jpg</td>\n",
       "    </tr>\n",
       "    <tr>\n",
       "      <th>...</th>\n",
       "      <td>...</td>\n",
       "      <td>...</td>\n",
       "    </tr>\n",
       "    <tr>\n",
       "      <th>1050</th>\n",
       "      <td>WATERMELON</td>\n",
       "      <td>WATERMELON/r_95_100.jpg</td>\n",
       "    </tr>\n",
       "    <tr>\n",
       "      <th>1051</th>\n",
       "      <td>WATERMELON</td>\n",
       "      <td>WATERMELON/r_96_100.jpg</td>\n",
       "    </tr>\n",
       "    <tr>\n",
       "      <th>1052</th>\n",
       "      <td>WATERMELON</td>\n",
       "      <td>WATERMELON/r_97_100.jpg</td>\n",
       "    </tr>\n",
       "    <tr>\n",
       "      <th>1053</th>\n",
       "      <td>WATERMELON</td>\n",
       "      <td>WATERMELON/r_98_100.jpg</td>\n",
       "    </tr>\n",
       "    <tr>\n",
       "      <th>1054</th>\n",
       "      <td>WATERMELON</td>\n",
       "      <td>WATERMELON/r_99_100.jpg</td>\n",
       "    </tr>\n",
       "  </tbody>\n",
       "</table>\n",
       "<p>1055 rows × 2 columns</p>\n",
       "</div>"
      ],
      "text/plain": [
       "           fruit                     path\n",
       "0         APPLES       APPLES/151_100.jpg\n",
       "1         APPLES       APPLES/152_100.jpg\n",
       "2         APPLES       APPLES/153_100.jpg\n",
       "3         APPLES       APPLES/154_100.jpg\n",
       "4         APPLES       APPLES/155_100.jpg\n",
       "...          ...                      ...\n",
       "1050  WATERMELON  WATERMELON/r_95_100.jpg\n",
       "1051  WATERMELON  WATERMELON/r_96_100.jpg\n",
       "1052  WATERMELON  WATERMELON/r_97_100.jpg\n",
       "1053  WATERMELON  WATERMELON/r_98_100.jpg\n",
       "1054  WATERMELON  WATERMELON/r_99_100.jpg\n",
       "\n",
       "[1055 rows x 2 columns]"
      ]
     },
     "execution_count": 12,
     "metadata": {},
     "output_type": "execute_result"
    }
   ],
   "source": [
    "meta_data_df"
   ]
  },
  {
   "cell_type": "code",
   "execution_count": 13,
   "id": "b80a5997",
   "metadata": {},
   "outputs": [],
   "source": [
    "meta_data_df.to_csv('fruits_metadata_test.csv', index = False)"
   ]
  }
 ],
 "metadata": {
  "kernelspec": {
   "display_name": "Python 3 (ipykernel)",
   "language": "python",
   "name": "python3"
  },
  "language_info": {
   "codemirror_mode": {
    "name": "ipython",
    "version": 3
   },
   "file_extension": ".py",
   "mimetype": "text/x-python",
   "name": "python",
   "nbconvert_exporter": "python",
   "pygments_lexer": "ipython3",
   "version": "3.8.8"
  }
 },
 "nbformat": 4,
 "nbformat_minor": 5
}
